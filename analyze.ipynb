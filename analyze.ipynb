{
 "cells": [
  {
   "cell_type": "code",
   "execution_count": 2,
   "id": "b04c4698",
   "metadata": {},
   "outputs": [],
   "source": [
    "import pandas as pd"
   ]
  },
  {
   "cell_type": "code",
   "execution_count": 4,
   "id": "2a633b2a",
   "metadata": {},
   "outputs": [],
   "source": [
    "df = pd.read_excel(\"Life at Sea Itinerary.xlsx\")"
   ]
  },
  {
   "cell_type": "code",
   "execution_count": 5,
   "id": "04aa3fdf",
   "metadata": {},
   "outputs": [
    {
     "data": {
      "text/html": [
       "<div>\n",
       "<style scoped>\n",
       "    .dataframe tbody tr th:only-of-type {\n",
       "        vertical-align: middle;\n",
       "    }\n",
       "\n",
       "    .dataframe tbody tr th {\n",
       "        vertical-align: top;\n",
       "    }\n",
       "\n",
       "    .dataframe thead th {\n",
       "        text-align: right;\n",
       "    }\n",
       "</style>\n",
       "<table border=\"1\" class=\"dataframe\">\n",
       "  <thead>\n",
       "    <tr style=\"text-align: right;\">\n",
       "      <th></th>\n",
       "      <th>Date</th>\n",
       "      <th>Day</th>\n",
       "      <th>Port</th>\n",
       "      <th>Country</th>\n",
       "      <th>Arrive</th>\n",
       "      <th>Depart</th>\n",
       "    </tr>\n",
       "  </thead>\n",
       "  <tbody>\n",
       "    <tr>\n",
       "      <th>0</th>\n",
       "      <td>2023-11-01</td>\n",
       "      <td>Wed</td>\n",
       "      <td>Istanbul</td>\n",
       "      <td>Turkey</td>\n",
       "      <td>NaN</td>\n",
       "      <td>16.0</td>\n",
       "    </tr>\n",
       "    <tr>\n",
       "      <th>1</th>\n",
       "      <td>2023-11-02</td>\n",
       "      <td>Thu</td>\n",
       "      <td>Sea</td>\n",
       "      <td>Sea</td>\n",
       "      <td>NaN</td>\n",
       "      <td>NaN</td>\n",
       "    </tr>\n",
       "    <tr>\n",
       "      <th>2</th>\n",
       "      <td>2023-11-03</td>\n",
       "      <td>Fri</td>\n",
       "      <td>Sea</td>\n",
       "      <td>Sea</td>\n",
       "      <td>NaN</td>\n",
       "      <td>NaN</td>\n",
       "    </tr>\n",
       "    <tr>\n",
       "      <th>3</th>\n",
       "      <td>2023-11-04</td>\n",
       "      <td>Sat</td>\n",
       "      <td>Sea</td>\n",
       "      <td>Sea</td>\n",
       "      <td>NaN</td>\n",
       "      <td>NaN</td>\n",
       "    </tr>\n",
       "    <tr>\n",
       "      <th>4</th>\n",
       "      <td>2023-11-05</td>\n",
       "      <td>Sun</td>\n",
       "      <td>Barcelona</td>\n",
       "      <td>Spain</td>\n",
       "      <td>12.0</td>\n",
       "      <td>20.0</td>\n",
       "    </tr>\n",
       "    <tr>\n",
       "      <th>...</th>\n",
       "      <td>...</td>\n",
       "      <td>...</td>\n",
       "      <td>...</td>\n",
       "      <td>...</td>\n",
       "      <td>...</td>\n",
       "      <td>...</td>\n",
       "    </tr>\n",
       "    <tr>\n",
       "      <th>1092</th>\n",
       "      <td>2026-10-28</td>\n",
       "      <td>Wed</td>\n",
       "      <td>Kusadasi</td>\n",
       "      <td>Turkey</td>\n",
       "      <td>8.0</td>\n",
       "      <td>NaN</td>\n",
       "    </tr>\n",
       "    <tr>\n",
       "      <th>1093</th>\n",
       "      <td>2026-10-29</td>\n",
       "      <td>Thu</td>\n",
       "      <td>Kusadasi</td>\n",
       "      <td>Turkey</td>\n",
       "      <td>NaN</td>\n",
       "      <td>NaN</td>\n",
       "    </tr>\n",
       "    <tr>\n",
       "      <th>1094</th>\n",
       "      <td>2026-10-30</td>\n",
       "      <td>Fri</td>\n",
       "      <td>Kusadasi</td>\n",
       "      <td>Turkey</td>\n",
       "      <td>NaN</td>\n",
       "      <td>18.0</td>\n",
       "    </tr>\n",
       "    <tr>\n",
       "      <th>1095</th>\n",
       "      <td>2026-10-31</td>\n",
       "      <td>Sat</td>\n",
       "      <td>Sea</td>\n",
       "      <td>Sea</td>\n",
       "      <td>NaN</td>\n",
       "      <td>NaN</td>\n",
       "    </tr>\n",
       "    <tr>\n",
       "      <th>1096</th>\n",
       "      <td>2026-11-01</td>\n",
       "      <td>Sun</td>\n",
       "      <td>Istanbul</td>\n",
       "      <td>Turkey</td>\n",
       "      <td>8.0</td>\n",
       "      <td>NaN</td>\n",
       "    </tr>\n",
       "  </tbody>\n",
       "</table>\n",
       "<p>1097 rows × 6 columns</p>\n",
       "</div>"
      ],
      "text/plain": [
       "           Date  Day       Port Country  Arrive  Depart\n",
       "0    2023-11-01  Wed   Istanbul  Turkey     NaN    16.0\n",
       "1    2023-11-02  Thu        Sea     Sea     NaN     NaN\n",
       "2    2023-11-03  Fri        Sea     Sea     NaN     NaN\n",
       "3    2023-11-04  Sat        Sea     Sea     NaN     NaN\n",
       "4    2023-11-05  Sun  Barcelona   Spain    12.0    20.0\n",
       "...         ...  ...        ...     ...     ...     ...\n",
       "1092 2026-10-28  Wed   Kusadasi  Turkey     8.0     NaN\n",
       "1093 2026-10-29  Thu   Kusadasi  Turkey     NaN     NaN\n",
       "1094 2026-10-30  Fri   Kusadasi  Turkey     NaN    18.0\n",
       "1095 2026-10-31  Sat        Sea     Sea     NaN     NaN\n",
       "1096 2026-11-01  Sun   Istanbul  Turkey     8.0     NaN\n",
       "\n",
       "[1097 rows x 6 columns]"
      ]
     },
     "execution_count": 5,
     "metadata": {},
     "output_type": "execute_result"
    }
   ],
   "source": [
    "df"
   ]
  },
  {
   "cell_type": "code",
   "execution_count": 6,
   "id": "9937d6eb",
   "metadata": {},
   "outputs": [],
   "source": [
    "df.to_csv('life_at_sea.csv', index=False)"
   ]
  },
  {
   "cell_type": "code",
   "execution_count": 11,
   "id": "3332f46f",
   "metadata": {},
   "outputs": [
    {
     "name": "stdout",
     "output_type": "stream",
     "text": [
      "Date,Day,Port,Country,Arrive,Depart\r\n"
     ]
    }
   ],
   "source": [
    "!head -1 life_at_sea.csv"
   ]
  },
  {
   "cell_type": "code",
   "execution_count": 10,
   "id": "2ff7c65c",
   "metadata": {},
   "outputs": [
    {
     "name": "stdout",
     "output_type": "stream",
     "text": [
      "2023-11-26,Sun,Goergetown,Guyana,8.0,17.0\r\n",
      "2023-11-27,Mon,Paramaribo,Suriname,8.0,18.0\r\n",
      "2023-11-28,Tues,Sea,Sea,,\r\n",
      "2023-11-29,Wed,Sea,Sea,,\r\n",
      "2023-11-30,Thu,Macapa,Brazil,8.0,18.0\r\n",
      "2023-12-01,Fri,Sea,Sea,,\r\n",
      "2023-12-02,Sat,Sea,Sea,,\r\n",
      "2023-12-03,Sun,Parantins,Brazil,8.0,17.0\r\n",
      "2023-12-04,Mon,Sea,Sea,,\r\n",
      "2023-12-05,Tues,Manaus,Brazil,8.0,17.0\r\n",
      "2023-12-06,Wed,Sea,Sea,,\r\n",
      "2023-12-07,Thu,Sea,Sea,,\r\n",
      "2023-12-08,Fri,Sea,Sea,,\r\n",
      "2023-12-09,Sat,Belem,Brazil,8.0,18.0\r\n"
     ]
    }
   ],
   "source": [
    "!head -40 life_at_sea.csv | tail -14"
   ]
  }
 ],
 "metadata": {
  "kernelspec": {
   "display_name": "Python 3 (ipykernel)",
   "language": "python",
   "name": "python3"
  },
  "language_info": {
   "codemirror_mode": {
    "name": "ipython",
    "version": 3
   },
   "file_extension": ".py",
   "mimetype": "text/x-python",
   "name": "python",
   "nbconvert_exporter": "python",
   "pygments_lexer": "ipython3",
   "version": "3.10.6"
  },
  "toc": {
   "base_numbering": 1,
   "nav_menu": {},
   "number_sections": true,
   "sideBar": true,
   "skip_h1_title": false,
   "title_cell": "Table of Contents",
   "title_sidebar": "Contents",
   "toc_cell": false,
   "toc_position": {},
   "toc_section_display": true,
   "toc_window_display": false
  }
 },
 "nbformat": 4,
 "nbformat_minor": 5
}
